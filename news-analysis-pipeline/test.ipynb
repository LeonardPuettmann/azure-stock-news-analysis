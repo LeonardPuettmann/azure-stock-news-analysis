{
 "cells": [
  {
   "cell_type": "code",
   "execution_count": 6,
   "metadata": {},
   "outputs": [],
   "source": [
    "import json\n",
    "\n",
    "with open(\"processed-stock-news-2023-07-31.json\", \"r\") as f:\n",
    "      data = json.load(f)\n",
    "\n",
    "nl = \"\\n\"\n",
    "text = f\"\"\"\n",
    "This is your daily stock news summary. \n",
    "\n",
    "News about Microsoft: \n",
    "{\" \".join([i+nl for i in data[\"MSFT\"][\"summaries\"] if \"All photographs subject to copyright.\" not in i])}\n",
    "\\n Sentiments: positive -> {data[\"MSFT\"][\"sentiments\"].count(\"positive\")}, neutral -> {data[\"MSFT\"][\"sentiments\"].count(\"neutral\")}, negative -> {data[\"MSFT\"][\"sentiments\"].count(\"negative\")}\n",
    "\n",
    "News about DigitalOcean:\n",
    "{\" \".join([i+nl for i in data[\"DOCN\"][\"summaries\"] if \"All photographs subject to copyright.\" not in i])}\n",
    "\\n Sentiments: positive -> {data[\"DOCN\"][\"sentiments\"].count(\"positive\")}, neutral -> {data[\"DOCN\"][\"sentiments\"].count(\"neutral\")}, negative -> {data[\"DOCN\"][\"sentiments\"].count(\"negative\")}\n",
    "\n",
    "News about Apple:\n",
    "{\" \".join([i+nl for i in data[\"AAPL\"][\"summaries\"] if \"All photographs subject to copyright.\" not in i])}\n",
    "\\n Sentiments: positive -> {data[\"AAPL\"][\"sentiments\"].count(\"positive\")}, neutral -> {data[\"AAPL\"][\"sentiments\"].count(\"neutral\")}, negative -> {data[\"AAPL\"][\"sentiments\"].count(\"negative\")}\n",
    "\n",
    "News about Boradcom: \n",
    "{\" \".join([i+nl for i in data[\"AVGO\"][\"summaries\"] if \"All photographs subject to copyright.\" not in i])}\n",
    "\\n Sentiments: positive -> {data[\"AVGO\"][\"sentiments\"].count(\"positive\")}, neutral -> {data[\"AVGO\"][\"sentiments\"].count(\"neutral\")}, negative -> {data[\"AVGO\"][\"sentiments\"].count(\"negative\")}\n",
    "\n",
    "News about IBM:\n",
    "{\" \".join([i+nl for i in data[\"IBM\"][\"summaries\"] if \"All photographs subject to copyright.\" not in i])}\n",
    "\\n Sentiments: positive -> {data[\"IBM\"][\"sentiments\"].count(\"positive\")}, neutral -> {data[\"IBM\"][\"sentiments\"].count(\"neutral\")}, negative -> {data[\"IBM\"][\"sentiments\"].count(\"negative\")}\n",
    "\n",
    "News about Texas Instruments:\n",
    "{\" \".join([i+nl for i in data[\"TXN\"][\"summaries\"] if \"All photographs subject to copyright.\" not in i])}\n",
    "\\n Sentiments: positive -> {data[\"TXN\"][\"sentiments\"].count(\"positive\")}, neutral -> {data[\"TXN\"][\"sentiments\"].count(\"neutral\")}, negative -> {data[\"TXN\"][\"sentiments\"].count(\"negative\")}\n",
    "\n",
    "Full texts: \n",
    "Microsoft \n",
    "{\" \".join([i+nl for i in data[\"MSFT\"][\"url\"]])}\n",
    "\n",
    "DigialOcean\n",
    "{\" \".join([i+nl for i in data[\"DOCN\"][\"url\"]])}\n",
    "\n",
    "Apple\n",
    "{\" \".join([i+nl for i in data[\"AAPL\"][\"url\"]])}\n",
    "\n",
    "Broadcom\n",
    "{\" \".join([i+nl for i in data[\"AVGO\"][\"url\"]])}\n",
    "\n",
    "IBM \n",
    "{\" \".join([i+nl for i in data[\"IBM\"][\"url\"]])}\n",
    "\n",
    "Texas Instruments \n",
    "{\" \".join([i+nl for i in data[\"TXN\"][\"url\"]])}\n",
    "\"\"\""
   ]
  },
  {
   "cell_type": "code",
   "execution_count": 4,
   "metadata": {},
   "outputs": [
    {
     "data": {
      "text/plain": [
       "'\\nThis is your daily stock news summary. \\n\\nNews about Microsoft: \\nOffice 365 Commercial now has 400 million paid seats. SMB, frontline workers driving growth in paid seats.\\n Microsoft Corporation (: MSFT) stock is trading at a P/E ratio of 34.94x.\\n Tech giant posted record quarterly sales, earnings per share. MSFT stock has outperformed the S&P 500 this year\\n Alphabet crushed estimates, but Microsoft’s results were mixed.\\n L1 Capital International Fund returned 9.0% (net of fees) in the June 2023 quarter.\\n Tech giant reports better-than-expected results, driven by usual businesses. Next quarter seen less interesting now that ATVI deal has been pushed out\\n\\n\\n Sentiments: positive -> 6, neutral -> 1, negative -> 1\\n\\nNews about DigitalOcean:\\nCompany has seen a loss of -6.00% in its stock price over the last five trading days.\\n Guy Jeffrey Scott sold 6,000 shares at $46.09 per share.\\n Shares of DigitalOcean have gained 13.4% in the last trading session.\\n DigitalOcean said it acquired PaperSpace for $111 million in cash.\\n Acquires Paperspace, a leading provider of cloud infrastructure as a service.\\n DigitalOcean is a lower-quality operator in the sector. The company is generating cash, returning it to shareholders\\n DigitalOcean acquired Agarwal’s Nimbella in 2021\\n DocN is a mid-cap value stock in the Software & Programming industry.\\n\\n\\n Sentiments: positive -> 7, neutral -> 1, negative -> 1\\n\\nNews about Apple:\\nPiper Sandler raises price target to $220 from $180. Apple can execute its key segments and markets, Kumar says\\n Monness analyst Brian White maintains a Buy rating on Apple with a $188.00 price target.\\n Fintel shows unusual options activity in NVDA, XPEV. Disney leads the week in unusual options flow\\n Apple has gone up by 2.03% for the week, with a 3.48% rise in the past month and a 16.28% rise in the past\\n Apple, Amazon and two of the biggest pharmaceutical companies report. Investors await word on U.S. jobs, China trade talks\\n In the second quarter, the fund returned 8.1% compared to S&P, Russell 1000 Growth Index, and Russell 1000 Value Index.\\n Weekly, monthly, and daily trends all indicate bullish patterns.\\n FTSE 100 tumbles as Brexit uncertainty grows\\n\\n\\n Sentiments: positive -> 7, neutral -> 3, negative -> 0\\n\\nNews about Boradcom: \\nCore Equity Composite posted a total return of 9.29 % gross of fees. For the second quarter of 2023, Aristotle Atlantic’s Core Equity Composite\\n Company to report third quarter fiscal year 2023 financial results and business outlook.\\n Strong demand from buyers drove the stock to $899.79.\\n Shares of the chipmaker are down more than 20% this year.\\n AT&T has a dividend yield of 3.1% while Broadcom has a forward price-to-earnings ratio of 18.\\n AVGO is a large-cap growth stock in Semiconductors industry.\\n AVGO is a large-cap growth stock in Semiconductors industry.\\n FTSE 100 tumbles as Brexit uncertainty grows\\n I downgraded the stock to a Buy in mid April, but it has since soared. pros and cons of AVGO, not the least\\n The company has seen a rise in its stock price in relation to its previous close of 888.34.\\n\\n\\n Sentiments: positive -> 4, neutral -> 6, negative -> 0\\n\\nNews about IBM:\\nShares of the company have gained about 8.87% over the past 30 days.\\n Whales have taken a bearish stance on the stock.\\n International Business Machines Corporation (IBM) is trading at a P/E ratio of 69.94x.\\n Software and consulting divisions posted strong growth. Revenue decline was due solely to hardware business\\n New tool can help enterprises track greenhouse gas emissions. AI-informed dashboard can help clients understand their impact on the environment\\n Platform designed to facilitate manufacturers, wholesalers, pharmacies, and regulators.\\n Energy-intensive cloud computing plays a growing role.\\n\\n\\n Sentiments: positive -> 8, neutral -> 1, negative -> 1\\n\\nNews about Texas Instruments:\\nTexas Instruments has outperformed the market over the past 20 years.\\n Shares of Texas Instruments are trading at a P/E ratio of 21.41x.\\n Texas Instruments Incorporated (TXN) shares up by 0.37% to previous day’s close.\\n Susquehanna lifts price target on shares to $215.\\n Analysts question whether company is on track to return to growth. Texas Instruments says it will continue building out capacity\\n Lee Keng covers the Technology sector.\\n INSTRU INC is a large-cap growth stock in Semiconductors industry.\\n Dividend payment of $1.24 per share to be paid on August 15, 2023.\\n\\n\\n Sentiments: positive -> 7, neutral -> 1, negative -> 1\\n\\nFull texts: \\nMicrosoft \\nhttps://www.msn.com/en-us/money/markets/microsoft-another-solid-quarter-but-msft-stock-is-still-a-sell/ar-AA1eAAPz\\n https://www.benzinga.com/23/07/33473086/microsoft-the-third-pillar-the-emerging-opportunity-for-msft-from-generative-ai\\n https://newsheater.com/2023/07/31/microsoft-corporation-msft-stock-analyzing-the-quarterly-movement-2/\\n https://markets.businessinsider.com/news/stocks/did-microsoft-msft-stock-just-peak-1032481225\\n https://www.msn.com/en-us/money/savingandinvesting/oppenheimer-reiterates-microsoft-msft-outperform-recommendation/ar-AA1evxWT\\n https://markets.businessinsider.com/news/stocks/googl-msft-earnings-a-tale-of-two-tech-titans-1032480579\\n https://finance.yahoo.com/news/l1-capital-international-fund-microsoft-111923760.html\\n https://arstechnica.com/civis/threads/msft-cy23q2-results-are-in.1494806/\\n\\n\\nDigialOcean\\nhttps://newsheater.com/2023/07/26/digitalocean-holdings-inc-docn-shares-decline-despite-market-challenges/\\n https://www.msn.com/en-us/money/smallbusiness/b-of-a-securities-maintains-digitalocean-holdings-docn-buy-recommendation/ar-AA1ep1F7\\n https://knoxdaily.com/2023/07/28/a-company-insider-recently-sold-6000-shares-of-digitalocean-holdings-inc-docn-should-you-sale/\\n https://finance.yahoo.com/news/digitalocean-holdings-inc-docn-surges-141800256.html\\n https://www.benzinga.com/news/23/07/33138140/whats-going-on-with-digitalocean-stock-today\\n https://finance.yahoo.com/news/digitalocean-docn-expands-ai-footprint-143500556.html\\n https://seekingalpha.com/article/4615784-digitalocean-deep-value-tech-stock-pure-play-cloud-computing-provider\\n https://www.marketwatch.com/story/longtime-tech-entrepreneur-anshu-agarwal-joins-venture-firm-to-let-founders-do-their-magic-bdd5e686\\n https://www.nasdaq.com/articles/validea-detailed-fundamental-analysis-docn\\n\\n\\nApple\\nhttps://www.msn.com/en-us/money/topstocks/aapl-stock-today-how-to-trade-the-upcoming-earnings-with-options/ar-AA1eBrDm\\n https://markets.businessinsider.com/news/stocks/apple-s-iphone-share-in-china-shows-positive-momentum-india-emerges-as-rapidly-growing-market-analyst-says-ahead-of-q3-1032496838\\n https://markets.businessinsider.com/news/stocks/apple-aapl-receives-a-buy-from-monness-1032495034\\n https://www.msn.com/en-us/money/savingandinvesting/piper-sandler-maintains-apple-aapl-overweight-recommendation/ar-AA1eBqt6\\n https://247wallst.com/investing/2023/07/31/as-disney-leads-the-week-in-unusual-options-flow-nvda-aapl-xpev-follow/\\n https://newsheater.com/2023/07/31/apple-inc-aapl-stock-faces-1-41-weekly-volatility/\\n https://www.benzinga.com/news/earnings/23/07/33474441/earnings-extravaganza-another-one-third-of-s-p-500-companies-report-this-week-including-amazon-appl\\n https://news.yahoo.com/why-hold-apple-aapl-long-103432783.html\\n https://www.fxstreet.com/news/elliott-wave-analysis-aapl-and-top-tech-stocks-video-202307302109\\n https://money.usnews.com/investing/stocks/aapl-apple-inc/vitals\\n\\n\\nBroadcom\\nhttps://finance.yahoo.com/news/broadcom-avgo-smart-long-term-034931336.html\\n https://finance.yahoo.com/quote/AVGO230728P00842500/\\n https://stocksregister.com/2023/07/29/why-broadcom-inc-nasdaq-avgo-is-a-great-stock-pick-for-momentum-investors/\\n https://www.benzinga.com/markets/options/23/07/33444286/this-is-what-whales-are-betting-on-broadcom\\n https://www.fool.com/investing/2023/07/28/best-dividend-stock-to-buy-att-stock-vs-broadcom-s/\\n https://www.nasdaq.com/articles/avgo-factor-based-stock-analysis-5\\n https://www.nasdaq.com/articles/avgo-quantitative-stock-analysis-4\\n https://money.usnews.com/investing/stocks/avgo-broadcom-inc/vitals\\n https://seekingalpha.com/article/4618484-broadcom-the-gift-that-keeps-on-giving-and-giving-and-giving\\n https://newsheater.com/2023/07/24/broadcom-inc-avgo-shares-soar-above-1-year-high/\\n\\n\\nIBM \\nhttps://www.bizjournals.com/newyork/news/2023/07/31/national-beat-ai-jobs-startups.html\\n https://stocksregister.com/2023/07/31/what-are-you-thinking-about-investing-in-international-business-machines-corporation-nyse-ibm-stock/\\n https://www.benzinga.com/markets/options/23/07/33476037/check-out-what-whales-are-doing-with-ibm\\n https://newsheater.com/2023/07/31/international-business-machines-corporation-ibm-stock-a-look-at-the-analyst-recommendations/\\n https://www.fool.com/investing/2023/07/25/is-it-time-to-buy-ibm-stock-after-a-solid-earnings/\\n https://siliconangle.com/2023/07/26/inside-ibm-storages-fusion-watsonx-data-technology-ibmstoragesummit/\\n https://www.dbta.com/Editorial/News-Flashes/IBM-Unveils-Tool-to-Help-Companies-Measure-Sustainability-Objectives-159845.aspx\\n https://siliconangle.com/2023/07/26/unlocking-data-value-ai-ibm-shaping-future-data-storage-ibmstoragesummit/\\n https://www.dbta.com/Editorial/News-Flashes/IBM-and-NABP-Partner-to-Create-Digital-Platform-to-Protect-the-Drug-Supply-Chain-159839.aspx\\n https://www.eweek.com/cloud/ibm-cloud-carbon-calculator/\\n\\n\\nTexas Instruments \\nhttps://www.benzinga.com/news/earnings/23/07/33474688/100-invested-in-texas-instruments-20-years-ago-would-be-worth-this-much-today\\n https://newsheater.com/2023/07/31/should-you-invest-in-texas-instruments-incorporated-txn-now/\\n https://stocksregister.com/2023/07/29/texas-instruments-incorporated-nasdaq-txn-what-matters-now/\\n https://markets.businessinsider.com/news/stocks/4-analysts-on-texas-instruments-q2-print-nearer-term-results-were-better-q3-expected-to-be-flat-1032480906\\n https://www.marketwatch.com/story/texas-instruments-stock-slips-as-outlook-overshadows-earnings-beat-4cd6e59\\n https://markets.businessinsider.com/news/stocks/texas-instruments-txn-gets-a-buy-from-dbs-1032482735\\n https://www.msn.com/en-us/money/taxes/texas-instruments-txn-declares-1-24-dividend/ar-AA1eljz4\\n https://www.nasdaq.com/articles/txn-factor-based-stock-analysis-warren-buffett-4\\n https://www.nasdaq.com/articles/texas-instruments-txn-declares-$1.24-dividend-0\\n\\n'"
      ]
     },
     "execution_count": 4,
     "metadata": {},
     "output_type": "execute_result"
    }
   ],
   "source": [
    "text"
   ]
  },
  {
   "cell_type": "code",
   "execution_count": null,
   "metadata": {},
   "outputs": [],
   "source": []
  }
 ],
 "metadata": {
  "kernelspec": {
   "display_name": "sdk-v2",
   "language": "python",
   "name": "python3"
  },
  "language_info": {
   "codemirror_mode": {
    "name": "ipython",
    "version": 3
   },
   "file_extension": ".py",
   "mimetype": "text/x-python",
   "name": "python",
   "nbconvert_exporter": "python",
   "pygments_lexer": "ipython3",
   "version": "3.9.0"
  },
  "orig_nbformat": 4
 },
 "nbformat": 4,
 "nbformat_minor": 2
}
