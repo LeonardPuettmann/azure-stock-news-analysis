{
 "cells": [
  {
   "cell_type": "code",
   "execution_count": 18,
   "metadata": {},
   "outputs": [],
   "source": [
    "import pandas as pd \n",
    "import numpy as np\n",
    "import os \n",
    "\n",
    "from azure.storage.blob import BlobServiceClient\n",
    "\n",
    "from constants import BLOB_KEY"
   ]
  },
  {
   "cell_type": "code",
   "execution_count": 17,
   "metadata": {},
   "outputs": [],
   "source": [
    "# log in to the Blob Service Client\n",
    "account_url = \"https://mlstorageleo.blob.core.windows.net\"\n",
    "blob_service_client = BlobServiceClient(account_url, account_key=BLOB_KEY)"
   ]
  },
  {
   "cell_type": "code",
   "execution_count": 25,
   "metadata": {},
   "outputs": [],
   "source": [
    "# connect to the container \n",
    "container_client = blob_service_client.get_container_client(container=\"stock-news-json\") \n",
    "\n",
    "# list and download all currently available blobs\n",
    "blob_list = container_client.list_blobs()\n",
    "for blob in blob_list:\n",
    "    download_file_path = os.path.join(\".\\data\", str(blob.name))\n",
    "    with open(file=download_file_path, mode=\"wb\") as download_file:\n",
    "        download_file.write(container_client.download_blob(blob.name).readall())"
   ]
  },
  {
   "cell_type": "code",
   "execution_count": 26,
   "metadata": {},
   "outputs": [],
   "source": [
    "df = pd.read_json(\".\\\\data\\\\TXN-1686603553.838044.json\")"
   ]
  },
  {
   "cell_type": "code",
   "execution_count": 27,
   "metadata": {},
   "outputs": [
    {
     "data": {
      "text/html": [
       "<div>\n",
       "<style scoped>\n",
       "    .dataframe tbody tr th:only-of-type {\n",
       "        vertical-align: middle;\n",
       "    }\n",
       "\n",
       "    .dataframe tbody tr th {\n",
       "        vertical-align: top;\n",
       "    }\n",
       "\n",
       "    .dataframe thead th {\n",
       "        text-align: right;\n",
       "    }\n",
       "</style>\n",
       "<table border=\"1\" class=\"dataframe\">\n",
       "  <thead>\n",
       "    <tr style=\"text-align: right;\">\n",
       "      <th></th>\n",
       "      <th>name</th>\n",
       "      <th>description</th>\n",
       "      <th>datePublished</th>\n",
       "      <th>url</th>\n",
       "      <th>texts</th>\n",
       "    </tr>\n",
       "  </thead>\n",
       "  <tbody>\n",
       "    <tr>\n",
       "      <th>0</th>\n",
       "      <td>What Does Texas Instruments Incorporated&amp;#39;s...</td>\n",
       "      <td>The share price seems sensible at the moment a...</td>\n",
       "      <td>2023-06-09T14:00:00.0000000Z</td>\n",
       "      <td>https://finance.yahoo.com/news/does-texas-inst...</td>\n",
       "      <td>Let's talk about the popular Texas Instruments...</td>\n",
       "    </tr>\n",
       "    <tr>\n",
       "      <th>1</th>\n",
       "      <td>$100 Invested In Texas Instruments 15 Years Ag...</td>\n",
       "      <td>Texas Instruments (NASDAQ:TXN) has outperforme...</td>\n",
       "      <td>2023-06-07T17:00:25.0000000Z</td>\n",
       "      <td>https://www.msn.com/en-us/money/savingandinves...</td>\n",
       "      <td>Texas Instruments (NASDAQ:TXN) has outperforme...</td>\n",
       "    </tr>\n",
       "    <tr>\n",
       "      <th>2</th>\n",
       "      <td>Texas Instruments Incorporated (&lt;b&gt;TXN&lt;/b&gt;) An...</td>\n",
       "      <td>Texas Instruments Incorporated (NASDAQ:TXN) pr...</td>\n",
       "      <td>2023-06-10T14:38:00.0000000Z</td>\n",
       "      <td>https://stocksregister.com/2023/06/10/texas-in...</td>\n",
       "      <td>Texas Instruments Incorporated (NASDAQ:TXN) pr...</td>\n",
       "    </tr>\n",
       "    <tr>\n",
       "      <th>3</th>\n",
       "      <td>Texas Instruments (&lt;b&gt;TXN&lt;/b&gt;) Gains But Lags ...</td>\n",
       "      <td>Texas Instruments (TXN) closed at $170.36 in t...</td>\n",
       "      <td>2023-06-06T21:50:00.0000000Z</td>\n",
       "      <td>https://finance.yahoo.com/news/texas-instrumen...</td>\n",
       "      <td>Texas Instruments (TXN) Gains But Lags Market:...</td>\n",
       "    </tr>\n",
       "  </tbody>\n",
       "</table>\n",
       "</div>"
      ],
      "text/plain": [
       "                                                name  \\\n",
       "0  What Does Texas Instruments Incorporated&#39;s...   \n",
       "1  $100 Invested In Texas Instruments 15 Years Ag...   \n",
       "2  Texas Instruments Incorporated (<b>TXN</b>) An...   \n",
       "3  Texas Instruments (<b>TXN</b>) Gains But Lags ...   \n",
       "\n",
       "                                         description  \\\n",
       "0  The share price seems sensible at the moment a...   \n",
       "1  Texas Instruments (NASDAQ:TXN) has outperforme...   \n",
       "2  Texas Instruments Incorporated (NASDAQ:TXN) pr...   \n",
       "3  Texas Instruments (TXN) closed at $170.36 in t...   \n",
       "\n",
       "                  datePublished  \\\n",
       "0  2023-06-09T14:00:00.0000000Z   \n",
       "1  2023-06-07T17:00:25.0000000Z   \n",
       "2  2023-06-10T14:38:00.0000000Z   \n",
       "3  2023-06-06T21:50:00.0000000Z   \n",
       "\n",
       "                                                 url  \\\n",
       "0  https://finance.yahoo.com/news/does-texas-inst...   \n",
       "1  https://www.msn.com/en-us/money/savingandinves...   \n",
       "2  https://stocksregister.com/2023/06/10/texas-in...   \n",
       "3  https://finance.yahoo.com/news/texas-instrumen...   \n",
       "\n",
       "                                               texts  \n",
       "0  Let's talk about the popular Texas Instruments...  \n",
       "1  Texas Instruments (NASDAQ:TXN) has outperforme...  \n",
       "2  Texas Instruments Incorporated (NASDAQ:TXN) pr...  \n",
       "3  Texas Instruments (TXN) Gains But Lags Market:...  "
      ]
     },
     "execution_count": 27,
     "metadata": {},
     "output_type": "execute_result"
    }
   ],
   "source": [
    "df"
   ]
  },
  {
   "cell_type": "code",
   "execution_count": null,
   "metadata": {},
   "outputs": [],
   "source": []
  }
 ],
 "metadata": {
  "kernelspec": {
   "display_name": "Python 3",
   "language": "python",
   "name": "python3"
  },
  "language_info": {
   "codemirror_mode": {
    "name": "ipython",
    "version": 3
   },
   "file_extension": ".py",
   "mimetype": "text/x-python",
   "name": "python",
   "nbconvert_exporter": "python",
   "pygments_lexer": "ipython3",
   "version": "3.9.0"
  },
  "orig_nbformat": 4
 },
 "nbformat": 4,
 "nbformat_minor": 2
}
