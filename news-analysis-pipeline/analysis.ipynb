{
 "cells": [
  {
   "cell_type": "code",
   "execution_count": 1,
   "metadata": {},
   "outputs": [],
   "source": [
    "import pandas as pd \n",
    "import numpy as np\n",
    "import requests\n",
    "import os \n",
    "\n",
    "from azure.storage.blob import BlobServiceClient\n",
    "\n",
    "from azure.core.credentials import AzureKeyCredential\n",
    "from azure.ai.textanalytics import TextAnalyticsClient\n",
    "\n",
    "from constants import BLOB_KEY, COGNITIVE_ENDPOINT, COGNITIVE_CREDENTIALS, HUGGINGFACE_KEY"
   ]
  },
  {
   "cell_type": "code",
   "execution_count": 3,
   "metadata": {},
   "outputs": [],
   "source": [
    "# log in to the Blob Service Client\n",
    "account_url = \"https://mlstorageleo.blob.core.windows.net\"\n",
    "blob_service_client = BlobServiceClient(account_url, account_key=BLOB_KEY)"
   ]
  },
  {
   "cell_type": "code",
   "execution_count": 3,
   "metadata": {},
   "outputs": [],
   "source": [
    "# connect to the container \n",
    "container_client = blob_service_client.get_container_client(container=\"stock-news-json\") \n",
    "\n",
    "# list and download all currently available blobs\n",
    "blob_list = container_client.list_blobs()\n",
    "for blob in blob_list:\n",
    "    download_file_path = os.path.join(\".\\data\", str(blob.name))\n",
    "    with open(file=download_file_path, mode=\"wb\") as download_file:\n",
    "        download_file.write(container_client.download_blob(blob.name).readall())"
   ]
  },
  {
   "cell_type": "code",
   "execution_count": 7,
   "metadata": {},
   "outputs": [],
   "source": [
    "df = pd.read_json(\".\\\\data\\\\TXN-1686603553.838044.json\")\n",
    "texts = df[\"texts\"].values.tolist()"
   ]
  },
  {
   "cell_type": "code",
   "execution_count": 3,
   "metadata": {},
   "outputs": [
    {
     "data": {
      "text/html": [
       "<div>\n",
       "<style scoped>\n",
       "    .dataframe tbody tr th:only-of-type {\n",
       "        vertical-align: middle;\n",
       "    }\n",
       "\n",
       "    .dataframe tbody tr th {\n",
       "        vertical-align: top;\n",
       "    }\n",
       "\n",
       "    .dataframe thead th {\n",
       "        text-align: right;\n",
       "    }\n",
       "</style>\n",
       "<table border=\"1\" class=\"dataframe\">\n",
       "  <thead>\n",
       "    <tr style=\"text-align: right;\">\n",
       "      <th></th>\n",
       "      <th>name</th>\n",
       "      <th>description</th>\n",
       "      <th>datePublished</th>\n",
       "      <th>url</th>\n",
       "      <th>texts</th>\n",
       "    </tr>\n",
       "  </thead>\n",
       "  <tbody>\n",
       "    <tr>\n",
       "      <th>0</th>\n",
       "      <td>What Does Texas Instruments Incorporated&amp;#39;s...</td>\n",
       "      <td>The share price seems sensible at the moment a...</td>\n",
       "      <td>2023-06-09T14:00:00.0000000Z</td>\n",
       "      <td>https://finance.yahoo.com/news/does-texas-inst...</td>\n",
       "      <td>Let's talk about the popular Texas Instruments...</td>\n",
       "    </tr>\n",
       "    <tr>\n",
       "      <th>1</th>\n",
       "      <td>$100 Invested In Texas Instruments 15 Years Ag...</td>\n",
       "      <td>Texas Instruments (NASDAQ:TXN) has outperforme...</td>\n",
       "      <td>2023-06-07T17:00:25.0000000Z</td>\n",
       "      <td>https://www.msn.com/en-us/money/savingandinves...</td>\n",
       "      <td>Texas Instruments (NASDAQ:TXN) has outperforme...</td>\n",
       "    </tr>\n",
       "    <tr>\n",
       "      <th>2</th>\n",
       "      <td>Texas Instruments Incorporated (&lt;b&gt;TXN&lt;/b&gt;) An...</td>\n",
       "      <td>Texas Instruments Incorporated (NASDAQ:TXN) pr...</td>\n",
       "      <td>2023-06-10T14:38:00.0000000Z</td>\n",
       "      <td>https://stocksregister.com/2023/06/10/texas-in...</td>\n",
       "      <td>Texas Instruments Incorporated (NASDAQ:TXN) pr...</td>\n",
       "    </tr>\n",
       "    <tr>\n",
       "      <th>3</th>\n",
       "      <td>Texas Instruments (&lt;b&gt;TXN&lt;/b&gt;) Gains But Lags ...</td>\n",
       "      <td>Texas Instruments (TXN) closed at $170.36 in t...</td>\n",
       "      <td>2023-06-06T21:50:00.0000000Z</td>\n",
       "      <td>https://finance.yahoo.com/news/texas-instrumen...</td>\n",
       "      <td>Texas Instruments (TXN) Gains But Lags Market:...</td>\n",
       "    </tr>\n",
       "  </tbody>\n",
       "</table>\n",
       "</div>"
      ],
      "text/plain": [
       "                                                name  \\\n",
       "0  What Does Texas Instruments Incorporated&#39;s...   \n",
       "1  $100 Invested In Texas Instruments 15 Years Ag...   \n",
       "2  Texas Instruments Incorporated (<b>TXN</b>) An...   \n",
       "3  Texas Instruments (<b>TXN</b>) Gains But Lags ...   \n",
       "\n",
       "                                         description  \\\n",
       "0  The share price seems sensible at the moment a...   \n",
       "1  Texas Instruments (NASDAQ:TXN) has outperforme...   \n",
       "2  Texas Instruments Incorporated (NASDAQ:TXN) pr...   \n",
       "3  Texas Instruments (TXN) closed at $170.36 in t...   \n",
       "\n",
       "                  datePublished  \\\n",
       "0  2023-06-09T14:00:00.0000000Z   \n",
       "1  2023-06-07T17:00:25.0000000Z   \n",
       "2  2023-06-10T14:38:00.0000000Z   \n",
       "3  2023-06-06T21:50:00.0000000Z   \n",
       "\n",
       "                                                 url  \\\n",
       "0  https://finance.yahoo.com/news/does-texas-inst...   \n",
       "1  https://www.msn.com/en-us/money/savingandinves...   \n",
       "2  https://stocksregister.com/2023/06/10/texas-in...   \n",
       "3  https://finance.yahoo.com/news/texas-instrumen...   \n",
       "\n",
       "                                               texts  \n",
       "0  Let's talk about the popular Texas Instruments...  \n",
       "1  Texas Instruments (NASDAQ:TXN) has outperforme...  \n",
       "2  Texas Instruments Incorporated (NASDAQ:TXN) pr...  \n",
       "3  Texas Instruments (TXN) Gains But Lags Market:...  "
      ]
     },
     "execution_count": 3,
     "metadata": {},
     "output_type": "execute_result"
    }
   ],
   "source": [
    "df"
   ]
  },
  {
   "cell_type": "code",
   "execution_count": 8,
   "metadata": {},
   "outputs": [],
   "source": [
    "credential = AzureKeyCredential(\"<api_key>\")\n",
    "text_analytics_client = TextAnalyticsClient(\n",
    "    endpoint=COGNITIVE_ENDPOINT,\n",
    "    credential=AzureKeyCredential(COGNITIVE_CREDENTIALS)\n",
    ")"
   ]
  },
  {
   "cell_type": "code",
   "execution_count": 9,
   "metadata": {},
   "outputs": [],
   "source": [
    "result = text_analytics_client.analyze_sentiment(texts, show_opinion_mining=True)\n",
    "docs = [doc for doc in result if not doc.is_error]"
   ]
  },
  {
   "cell_type": "code",
   "execution_count": 17,
   "metadata": {},
   "outputs": [
    {
     "name": "stdout",
     "output_type": "stream",
     "text": [
      "Document text: Let's talk about the popular Texas Instruments Incorporated (NASDAQ:TXN). The company's shares saw significant share price movement during recent months on the NASDAQGS, rising to highs of US$186 and falling to the lows of US$161. Some share price movements can give investors a better opportunity to enter into the stock, and potentially buy at a lower price. A question to answer is whether Texas Instruments' current trading price of US$172 reflective of the actual value of the large-cap? Or is it currently undervalued, providing us with the opportunity to buy? Let’s take a look at Texas Instruments’s outlook and value\n",
      "Overall sentiment: negative\n",
      "\n",
      "Document text: Texas Instruments (NASDAQ:TXN) has outperformed the market over the past 15 years by 4.45% on an annualized basis producing an average annual return of 12.47%. Currently, Texas Instruments has a market capitalization of $156.33 billion. Buying $100 In TXN: If an investor had bought $100 of TXN stock 15 years ago, it would be worth $578.75 today based on a price of $172.24 for TXN at the time of writing. Texas Instruments's Performance Over Last 15 Years © Provided by Benzinga comp_fig Trending: Nancy Pelosi Unloads 2,900 Apple Shares Right Before WWDC — But There's A Catch - Apple (NASDAQ:AAPL)\n",
      "Overall sentiment: neutral\n",
      "\n",
      "Document text: Texas Instruments Incorporated (NASDAQ:TXN) price on Friday, June 09, fall -0.95% below its previous day’s close as a downside momentum from buyers pushed the stock’s value to $170.59. A look at the stock’s price movement, the close in the last trading session was $172.23, moving within a range at $169.48 and $173.82. The PE ratio in trailing twelve months stood at 19.14. Turning to its 52-week performance, $186.30 and $144.46 were the 52-week high and 52-week low respectively. Overall, TXN moved 4.62% over the past month. 25-cent Stock Takes $11T Commodities Sector Digital One brilliantly-run technology firm has successfully partnered\n",
      "Overall sentiment: neutral\n",
      "\n",
      "Document text: Texas Instruments (TXN) Gains But Lags Market: What You Should Know Texas Instruments (TXN) closed the most recent trading day at $170.36, moving +0.06% from the previous trading session. This change lagged the S&P 500's 0.24% gain on the day. At the same time, the Dow added 0.03%, and the tech-heavy Nasdaq gained 5.73%. Heading into today, shares of the chipmaker had gained 3.68% over the past month, lagging the Computer and Technology sector's gain of 10.73% and outpacing the S&P 500's gain of 3.56% in that time. Wall Street will be looking for positivity from Texas Instruments as it\n",
      "Overall sentiment: mixed\n",
      "\n"
     ]
    }
   ],
   "source": [
    "for idx, doc in enumerate(docs):\n",
    "    print(f\"Document text: {texts[idx]}\")\n",
    "    print(f\"Overall sentiment: {doc.sentiment}\")\n",
    "    print()"
   ]
  },
  {
   "cell_type": "code",
   "execution_count": 4,
   "metadata": {},
   "outputs": [],
   "source": [
    "# compare it to the HuggingFace model\n",
    "import requests\n",
    "\n",
    "def distilbert_sentiment_classifier(text: str, api_key: str) -> dict:\n",
    "    headers = {\"Authorization\": f\"Bearer {api_key}\"}\n",
    "    response = requests.post(\"https://api-inference.huggingface.co/models/KernAI/stock-news-destilbert\", headers=headers, json={\"inputs\": text})\n",
    "    json_response = response.json()\n",
    "    while not isinstance(json_response, dict):\n",
    "        json_response = json_response[0]\n",
    "    if \"label\" not in json_response:\n",
    "        return f\"This didn't work, got: {json_response}\"\n",
    "    else:\n",
    "        json_response = json_response[\"label\"]\n",
    "    return json_response"
   ]
  },
  {
   "cell_type": "code",
   "execution_count": 14,
   "metadata": {},
   "outputs": [],
   "source": [
    "distilbert_sentiments = [distilbert_sentiment_classifier(text, HUGGINGFACE_KEY) for text in texts]"
   ]
  },
  {
   "cell_type": "code",
   "execution_count": 15,
   "metadata": {},
   "outputs": [
    {
     "data": {
      "text/plain": [
       "['neutral', 'positive', 'negative', 'positive']"
      ]
     },
     "execution_count": 15,
     "metadata": {},
     "output_type": "execute_result"
    }
   ],
   "source": [
    "# the distilbert model is clearly better\n",
    "distilbert_sentiments"
   ]
  },
  {
   "cell_type": "code",
   "execution_count": 17,
   "metadata": {},
   "outputs": [],
   "source": [
    "entity_result = text_analytics_client.recognize_entities(texts)\n",
    "entity_result = [text for text in entity_result if not text.is_error]"
   ]
  },
  {
   "cell_type": "code",
   "execution_count": 19,
   "metadata": {},
   "outputs": [
    {
     "name": "stdout",
     "output_type": "stream",
     "text": [
      "Entity 'Texas Instruments Incorporated' has category 'Organization'\n",
      "Entity 'TXN' has category 'Organization'\n",
      "Entity 'cent' has category 'Quantity'\n",
      "Entity 'NASDAQGS' has category 'Organization'\n",
      "Entity 'US$186' has category 'Quantity'\n",
      "Entity 'US$161' has category 'Quantity'\n",
      "Entity 'investors' has category 'PersonType'\n",
      "Entity 'Texas Instruments' has category 'Organization'\n",
      "Entity 'trading' has category 'Skill'\n",
      "Entity 'US$172' has category 'Quantity'\n",
      "Entity 'Texas Instruments' has category 'Organization'\n",
      "Entity 'Texas Instruments' has category 'Organization'\n",
      "Entity 'TXN' has category 'Organization'\n",
      "Entity 'past 15 years' has category 'DateTime'\n",
      "Entity '4.45%' has category 'Quantity'\n",
      "Entity 'annual' has category 'DateTime'\n",
      "Entity '12.47%' has category 'Quantity'\n",
      "Entity 'Texas Instruments' has category 'Organization'\n",
      "Entity '$156.33 billion' has category 'Quantity'\n",
      "Entity '$100' has category 'Quantity'\n",
      "Entity '100 In' has category 'Quantity'\n",
      "Entity 'TXN' has category 'Organization'\n",
      "Entity 'investor' has category 'PersonType'\n",
      "Entity '$100' has category 'Quantity'\n",
      "Entity 'TXN' has category 'Organization'\n",
      "Entity '15 years ago' has category 'DateTime'\n",
      "Entity '$578.75' has category 'Quantity'\n",
      "Entity 'today' has category 'DateTime'\n",
      "Entity '$172.24' has category 'Quantity'\n",
      "Entity 'TXN' has category 'Organization'\n",
      "Entity 'Texas Instruments' has category 'Organization'\n",
      "Entity 'Last 15 Years' has category 'DateTime'\n",
      "Entity 'Nancy Pelosi' has category 'Person'\n",
      "Entity '2,900' has category 'Quantity'\n",
      "Entity 'Apple' has category 'Organization'\n",
      "Entity 'WWDC' has category 'Event'\n",
      "Entity 'Apple' has category 'Organization'\n",
      "Entity 'Texas Instruments Incorporated' has category 'Organization'\n",
      "Entity 'NASDAQ' has category 'Organization'\n",
      "Entity 'TXN' has category 'Organization'\n",
      "Entity 'Friday, June 09' has category 'DateTime'\n",
      "Entity 'fall' has category 'DateTime'\n",
      "Entity '-0.95%' has category 'Quantity'\n",
      "Entity 'previous day' has category 'DateTime'\n",
      "Entity 'buyers' has category 'PersonType'\n",
      "Entity '$170.59' has category 'Quantity'\n",
      "Entity '$172.23' has category 'Quantity'\n",
      "Entity '$169.48' has category 'Quantity'\n",
      "Entity '$173.82' has category 'Quantity'\n",
      "Entity 'twelve months' has category 'DateTime'\n",
      "Entity 'at 19.14' has category 'DateTime'\n",
      "Entity '52-week' has category 'DateTime'\n",
      "Entity '$186.30' has category 'Quantity'\n",
      "Entity '$144.46' has category 'Quantity'\n",
      "Entity '52-week' has category 'DateTime'\n",
      "Entity '52-week' has category 'DateTime'\n",
      "Entity 'TXN' has category 'Organization'\n",
      "Entity '4.62%' has category 'Quantity'\n",
      "Entity 'past month' has category 'DateTime'\n",
      "Entity '25-cent' has category 'Quantity'\n",
      "Entity '$11' has category 'Quantity'\n",
      "Entity '11T' has category 'Quantity'\n",
      "Entity 'One' has category 'Quantity'\n",
      "Entity 'Texas Instruments' has category 'Organization'\n",
      "Entity 'TXN' has category 'Organization'\n",
      "Entity 'Texas Instruments' has category 'Organization'\n",
      "Entity 'TXN' has category 'Organization'\n",
      "Entity 'cent' has category 'Quantity'\n",
      "Entity '$170.36' has category 'Quantity'\n",
      "Entity '0.06%' has category 'Quantity'\n",
      "Entity '500's' has category 'DateTime'\n",
      "Entity '0.24%' has category 'Quantity'\n",
      "Entity 'the day' has category 'DateTime'\n",
      "Entity '0.03%' has category 'Quantity'\n",
      "Entity 'Nasdaq' has category 'Organization'\n",
      "Entity '5.73%' has category 'Quantity'\n",
      "Entity 'today' has category 'DateTime'\n",
      "Entity '3.68%' has category 'Quantity'\n",
      "Entity 'past month' has category 'DateTime'\n",
      "Entity 'Computer' has category 'Skill'\n",
      "Entity 'Technology' has category 'Skill'\n",
      "Entity '10.73%' has category 'Quantity'\n",
      "Entity '500's' has category 'DateTime'\n",
      "Entity '3.56%' has category 'Quantity'\n",
      "Entity 'Wall Street' has category 'Organization'\n",
      "Entity 'Texas Instruments' has category 'Organization'\n"
     ]
    }
   ],
   "source": [
    "for idx, text in enumerate(entity_result):\n",
    "    for entity in text.entities:\n",
    "        print(f\"Entity '{entity.text}' has category '{entity.category}'\")"
   ]
  }
 ],
 "metadata": {
  "kernelspec": {
   "display_name": "Python 3",
   "language": "python",
   "name": "python3"
  },
  "language_info": {
   "codemirror_mode": {
    "name": "ipython",
    "version": 3
   },
   "file_extension": ".py",
   "mimetype": "text/x-python",
   "name": "python",
   "nbconvert_exporter": "python",
   "pygments_lexer": "ipython3",
   "version": "3.9.0"
  },
  "orig_nbformat": 4
 },
 "nbformat": 4,
 "nbformat_minor": 2
}
