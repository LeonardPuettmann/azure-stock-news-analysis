{
 "cells": [
  {
   "cell_type": "code",
   "execution_count": null,
   "metadata": {},
   "outputs": [],
   "source": [
    "import sendgrid\n",
    "import os\n",
    "from sendgrid.helpers.mail import Mail, Email, To, Content\n",
    "\n",
    "from azure.identity import DefaultAzureCredential\n",
    "from azure.keyvault.secrets import SecretClient\n",
    "\n",
    "credential = DefaultAzureCredential()\n",
    "secret_client = SecretClient(vault_url=\"https://my-key-vault.vault.azure.net/\", credential=credential)\n",
    "\n",
    "secret = secret_client.get_secret(\"sendgrid-key\")\n",
    "\n",
    "\n",
    "sg = sendgrid.SendGridAPIClient(api_key=))\n",
    "from_email = Email(\"leopuettmann@gmail.com\")  # Change to your verified sender\n",
    "to_email = To(\"leopuettmann@outlook.de\")  # Change to your recipient\n",
    "subject = \"Sending with SendGrid is Fun\"\n",
    "content = Content(\"text/plain\", \"and easy to do anywhere, even with Python\")\n",
    "mail = Mail(from_email, to_email, subject, content)\n",
    "\n",
    "# Get a JSON-ready representation of the Mail object\n",
    "mail_json = mail.get()\n",
    "\n",
    "# Send an HTTP POST request to /mail/send\n",
    "response = sg.client.mail.send.post(request_body=mail_json)\n",
    "print(response.status_code)\n",
    "print(response.headers)"
   ]
  }
 ],
 "metadata": {
  "language_info": {
   "name": "python"
  },
  "orig_nbformat": 4
 },
 "nbformat": 4,
 "nbformat_minor": 2
}
