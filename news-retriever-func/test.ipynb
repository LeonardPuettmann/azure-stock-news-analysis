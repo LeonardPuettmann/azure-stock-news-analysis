{
 "cells": [
  {
   "cell_type": "code",
   "execution_count": 12,
   "metadata": {},
   "outputs": [],
   "source": [
    "from newspaper import Article\n",
    "import requests \n",
    "import json \n",
    "import datetime "
   ]
  },
  {
   "cell_type": "code",
   "execution_count": null,
   "metadata": {},
   "outputs": [],
   "source": [
    "\n",
    "tickers = [\"MSFT\"]\n",
    "\n",
    "for ticker in tickers:\n",
    "      # search for news about a stock ticker on Bing News\n",
    "      search_url = \"https://api.bing.microsoft.com/v7.0/news/search\"\n",
    "\n",
    "      headers = {\"Ocp-Apim-Subscription-Key\" : BING_API_KEY}\n",
    "      params  = {\"q\": ticker, \"textDecorations\": True, \"textFormat\": \"HTML\", \"mkt\": \"en-US\"}\n",
    "\n",
    "      response = requests.get(search_url, headers=headers, params=params)\n",
    "      response.raise_for_status()\n",
    "      response_json = response.json()\n",
    "\n",
    "      url = response_json[\"url\"]\n",
    "\n",
    "      article = Article(url)\n",
    "\n",
    "      article.download()\n",
    "      article.parse()\n",
    "\n",
    "      text = article.text\n",
    "\n",
    "      # add the first 100 words of the article to avoid super long texts\n",
    "      response_json[\"text\"] = \" \".join(text.split()[:100])\n",
    "\n",
    "      # convert results into json file\n",
    "      file_name = f\"{ticker}-{datetime.datetime.today()}.json\"\n",
    "\n",
    "      with open(file_name, \"w\") as f:\n",
    "            json.dump(response_json, f)"
   ]
  }
 ],
 "metadata": {
  "kernelspec": {
   "display_name": "Python 3",
   "language": "python",
   "name": "python3"
  },
  "language_info": {
   "codemirror_mode": {
    "name": "ipython",
    "version": 3
   },
   "file_extension": ".py",
   "mimetype": "text/x-python",
   "name": "python",
   "nbconvert_exporter": "python",
   "pygments_lexer": "ipython3",
   "version": "3.9.2"
  },
  "orig_nbformat": 4
 },
 "nbformat": 4,
 "nbformat_minor": 2
}
